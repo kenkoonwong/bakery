{
    "cells": [
        {
            "cell_type": "markdown",
            "metadata": {
                "collapsed": true
            },
            "source": "# Capstone Project - The Battle of Neighborhoods (Week 1)\n## Project Title: Where should I open a bakery in NE Ohio?"
        },
        {
            "cell_type": "markdown",
            "metadata": {},
            "source": "### Background\n\nQuestion: What location around NorthEast Ohio will be a great place to open a bakery?\n\n#### Introduction/Business Problem:\nDuring a casual conversation, a fellow baker friend asked me which location would be best to open a bakery nearby? I do not know the answer but we started to wonder if having certain businessess and the population around the area would influence the business model. Finding out if there is a business type patterns of successful bakeries that we know of around the nearby neighborhoods, we may be able to assess other areas without bakeries to be suitable to open a bakery\n\n##### Data:\nLocating a place of business interest:\n1. List the bakeries we think are successful that we want to mimick\n2. Find the neighborhoods of the successful bakeries above through FourSquare\n3. Obtain data around those neighborhoods and the neighborhoods we are interested in opening businesses\n4. Sort the top 10 businesses around those neighborhoods and use knn method to assess if there is a similar patterns between the successful bakeries and also neighborhoods of interest without bakeries\n\nHypothesizing the potential revenue:\n1. Obtain the successful bakeries' demographic information. Planning obtain data from https://www.census.gov/quickfacts/fact/table/OH/PST045219\n2. Obtain the demographic of neighborhoods of interest\n3. Analyze if there are better resemblance of population in terms of age, sex, ethnicity, transportation, income etc of the neighborhood of interest compared to the successful bakeriesm through knn method\n4. Hypothesize an estimate of proportion of age group and frequency of customers in the successful bakery, compared to its baseline demographics. \n5. Then use this information to reflect on the top 3 neighborhood of business interest, using simulation, and calculate through its population and demographics how much potential revenue we can generate in the first year. Assuming there is no seasonality to the consumers' purchasing behavior. \n\n"
        }
    ],
    "metadata": {
        "kernelspec": {
            "display_name": "Python 3.8",
            "language": "python",
            "name": "python3"
        },
        "language_info": {
            "codemirror_mode": {
                "name": "ipython",
                "version": 3
            },
            "file_extension": ".py",
            "mimetype": "text/x-python",
            "name": "python",
            "nbconvert_exporter": "python",
            "pygments_lexer": "ipython3",
            "version": "3.8.10"
        }
    },
    "nbformat": 4,
    "nbformat_minor": 1
}